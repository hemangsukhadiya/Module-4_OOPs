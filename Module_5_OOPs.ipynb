{
  "nbformat": 4,
  "nbformat_minor": 0,
  "metadata": {
    "colab": {
      "provenance": []
    },
    "kernelspec": {
      "name": "python3",
      "display_name": "Python 3"
    },
    "language_info": {
      "name": "python"
    }
  },
  "cells": [
    {
      "cell_type": "markdown",
      "source": [
        "1. What is Object-Oriented Programming (OOP)?\n",
        "    \n",
        "    Ans:Object Oriented Programming is a computer programming model that organize the software around data and objects rather than function and logic. An object can be defined as a unique data field that has unique attributes and behaviour.\n",
        "\n",
        "    We can implement complex concepts like Encapsulation, Abstraction, Polymorphism, Inheritance etc easily.\n"
      ],
      "metadata": {
        "id": "kYAg_h7wyHjS"
      }
    },
    {
      "cell_type": "markdown",
      "source": [
        "2. What is a class in OOP?\n",
        "   \n",
        "    Ans:  Ans:  A class is a user-defined template that contains bundles of objects and methods. Class acts as a blueprint of the objects. It defines methods and attributes that a created object have.\n",
        "\n",
        "    Syntax:\n",
        "              class class_name:\n",
        "                  #methods and attributes\n",
        "\n",
        "    - Class has variables which are called as attributes\n",
        "    - Attributes are by default public so can be accessed by (.) operators. example: class_name : attribute\n",
        "\n",
        "    Example:\n",
        "              class dog:\n",
        "\n",
        "                    species = \"Canine\"  # Class attribute\n",
        "\n",
        "              def __init__(self, name, age):\n",
        "                    self.name = name  # Instance attribute\n",
        "                    self.age = age  # Instance attribute\n"
      ],
      "metadata": {
        "id": "YOcsUiUVyHxh"
      }
    },
    {
      "cell_type": "markdown",
      "source": [
        "3. What is an object in OOP?\n",
        "\n",
        "    Ans: An object in OOPs is an instance of the class.It is specific implementation of the class and holds its own data.\n",
        "\n",
        "    Syntax: object_name = Class_name (attributes)\n",
        "\n",
        "    Example:\n",
        "              dog1 = dog(\"Murphy\",\"10\")  \n",
        "\n",
        "              print(dog1.name,dog1.age)\n",
        "\n",
        "\n",
        "\n",
        "                        "
      ],
      "metadata": {
        "id": "4fJdDc2IyH8h"
      }
    },
    {
      "cell_type": "markdown",
      "source": [
        "4. What is the difference between abstraction and encapsulation?\n",
        "\n",
        "    Ans:  Abstraction means a process of hiding the implementation of details and showing only the functionality to the user.\n",
        "    Abstraction in pyhton is achieved using decorator \"@abc\" written ahead of the method that we want to make a abstract method.\n",
        "\n",
        "    while\n",
        "\n",
        "    Encapsulation means binding the data and method together and provide the controlled access of the data to the user.Encapsulation is implemented using various access modifiers like pulic, private and protected.By default all the values of method are public if we want to make it private then \"__\" is inserted ahead of the attribute and \"_\" to make it protected"
      ],
      "metadata": {
        "id": "2iVVw3MHyIG4"
      }
    },
    {
      "cell_type": "markdown",
      "source": [
        "5. What are dunder methods in Python?\n",
        "\n",
        "    Ans: The dunder methods are called as special method or magic method that are alredy defined in the python we just need to access it.The sign of a method is dunder method is it has \"__\" before and after the variable name.All the dunder methoad inpython are designed with special purspose.\n",
        "\n",
        "    Example: \"______init__\" -- to pre-initiliz the class\n",
        "    2.\"______str__\"-- to convert to a string\n",
        "    3.\"______add___\"--some where in pyhton this method must be called when we add or concatenate the string ot integer or float etc.\n",
        "    "
      ],
      "metadata": {
        "id": "BWd32i8RyIOK"
      }
    },
    {
      "cell_type": "markdown",
      "source": [
        "6.  Explain the concept of inheritance in OOP.\n",
        "\n",
        "    Ans:Inheritance i allows us to inherit all the methods and properities from one class to another.\n",
        "\n",
        "    Parent Class: The class that is being inherited\n",
        "    Child Class: The class that inherites the properities from the other class.\n",
        "\n",
        "    Example:\n",
        "              class parent:\n",
        "                  def __init__(self,name):\n",
        "                     self.name=name\n",
        "                    \n",
        "                  def name(self):\n",
        "                      return self.name\n",
        "\n",
        "              class child(parent):\n",
        "                  def __init__(self,name1,name):\n",
        "                     self.name1=name1\n",
        "                     parent.__init__(self,name)\n",
        "\n",
        "                  def name_1(self):\n",
        "                      return self.name + self.name1\n",
        "\n",
        "              obj1 = child (\"atulbhai\",\"a\")\n",
        "              obj1.name_1()"
      ],
      "metadata": {
        "id": "NYhVTM6CyITK"
      }
    },
    {
      "cell_type": "markdown",
      "source": [
        "7. What is polymorphism in OOP?\n",
        "\n",
        "    Ans: The worldy meaning of polymorphism is poly means many and morphism means forms so it is the tendency of the object to have several forms.\n",
        "\n",
        "    It can be implementedusing two methods:\n",
        "    1. Overloading\n",
        "    2. Overriding\n",
        "    \n",
        "    Let's see the concepts in detail:\n",
        "        1. Overloading: Method Overloading is an example of Compile time polymorphism. In this, more than one method of the same class shares the same method name having different signatures. Method overloading is used to add more to the behavior of methods and there is no need of more than one class for method overloading.\n",
        "        \n",
        "        Note: Python does not support method overloading. We may overload the methods but can only use the latest defined method.\n",
        "\n",
        "        Example:\n",
        "\n",
        "                  def mul(p,q):\n",
        "                      return p*q\n",
        "\n",
        "                  def mul(p,q,r):\n",
        "                      return p*q*r\n",
        "\n",
        "                  mul(4,5) #error as t eill take 2nd as final\n",
        "                  mul(3,4.5,5)\n",
        "        2. Overriding: Method overriding is an example of run time polymorphism. In this, the specific implementation of the method that is already provided by the parent class is provided by the child class. It is used to change the behavior of existing methods and there is a need for at least two classes for method overriding. In method overriding, inheritance always required as it is done between parent class(superclass) and child class(child class) methods.\n",
        "\n",
        "        For example:\n",
        "                      class A:\n",
        "\n",
        "\t                        def fun1(self):\n",
        "\t\t                          print('feature_1 of class A')\n",
        "\n",
        "\t                        def fun2(self):\n",
        "\t\t                          print('feature_2 of class A')\n",
        "\n",
        "                          class B(A);\n",
        "                          \n",
        "                          def fun1(self):\n",
        "\t\t                          print('Modified feature_1 of class A by class B')\n",
        "\n",
        "                        \tdef fun3(self):\n",
        "\t\t                          print('feature_3 of class B')\n",
        "\n",
        "                          obj = B()\n",
        "\n",
        "                          obj.fun1()\n",
        "\n",
        "                          o/p: Modified feature_1 of class A by class B\n"
      ],
      "metadata": {
        "id": "ueNiNRDTyIWq"
      }
    },
    {
      "cell_type": "markdown",
      "source": [
        "8. How is encapsulation achieved in Python?\n",
        "\n",
        "    Ans: Encapsulation in python is achieved using various access modifiers like private, public and protected.\n",
        "\n",
        "    1. Public Member : from outside of class, anywhere accessible.\n",
        "\n",
        "    2. Protected Member : Within the class and its subclasses, accessible.It is implemented using \"_\" ahead of the variable.Varale is accessed out of class using \"_classname_variablename\"\n",
        "\n",
        "    3. Private Member : Within the class, accessible.It is implemented using \"double underscore\" ahead of the variable. Variable cab be accessed out of the class using \"_____classname___variblename\"."
      ],
      "metadata": {
        "id": "tcHfl6mfyIaU"
      }
    },
    {
      "cell_type": "markdown",
      "source": [
        "9. What is a constructor in Python?"
      ],
      "metadata": {
        "id": "FPOo1sfsyId1"
      }
    },
    {
      "cell_type": "code",
      "source": [
        "\"\"\"\n",
        "\n",
        "\n",
        "    Ans: A constructor is a special method that is called automatically when an object is created from a class. Its main role is to initialize the object by setting up its attributes or state.\n",
        "\n",
        "    The method __new__ is the constructor that creates a new instance of the class while __init__ is the initializer that sets up the instance’s attributes after creation. These methods work together to manage object creation and initialization.\n",
        "\n",
        "    _new__ Method: This method is responsible for creating a new instance of a class. It allocates memory and returns the new object. It is called before __init__.\n",
        "\n",
        "\n",
        "      class ClassName:\n",
        "          def __new__(cls, parameters):\n",
        "          instance = super(ClassName, cls).__new__(cls)\n",
        "              return instance\n",
        "\n",
        "   __init__ Method: This method initializes the newly created instance and is commonly used as a constructor in Python. It is called immediately after the object is created by __new__ method and is responsible for initializing attributes of the instance.\n",
        "\n",
        "    Syntax:\n",
        "        class ClassName:\n",
        "            def __init__(self, parameters):\n",
        "            self.attribute = value\n",
        "Note: It is called after __new__ and does not return anything (it returns None by default).\n",
        "\n",
        "\n",
        "\n",
        "\"\"\""
      ],
      "metadata": {
        "id": "zAYIFVVTBvxQ"
      },
      "execution_count": null,
      "outputs": []
    },
    {
      "cell_type": "markdown",
      "source": [
        "10. What are class and static methods in Python?\n",
        "\n",
        "    Ans:  The @classmethod decorator is a built-in function decorator that is an expression that gets evaluated after your function is defined. The result of that evaluation shadows your function definition. A class method receives the class as an implicit first argument, just like an instance method receives the instance\n",
        "\n",
        "    Syntax Python Class Method:\n",
        "\n",
        "        class C(object):\n",
        "            @classmethod\n",
        "            def fun(cls, arg1, arg2, ...):\n",
        "            ....\n",
        "fun: function that needs to be converted into a class method\n",
        "returns: a class method for function.\n",
        "\n",
        "2. Static Method:  A static method does not receive an implicit first argument. A static method is also a method that is bound to the class and not the object of the class. This method can’t access or modify the class state. It is present in a class because it makes sense for the method to be present in class.\n",
        "\n",
        "    Syntax Python Static Method:\n",
        "\n",
        "        class C(object):\n",
        "            @staticmethod\n",
        "            def fun(arg1, arg2, ...):\n",
        "            ...\n",
        "returns: a static method for function fun."
      ],
      "metadata": {
        "id": "WBH8n44ayIhn"
      }
    },
    {
      "cell_type": "markdown",
      "source": [
        "11.  What is method overloading in Python?\n",
        "\n",
        "    Ans: Overloading: Method Overloading is an example of Compile time polymorphism. In this, more than one method of the same class shares the same method name having different signatures. Method overloading is used to add more to the behavior of methods and there is no need of more than one class for method overloading.\n",
        "\n",
        "    Note: Python does not support method overloading. We may overload the methods but can only use the latest defined method.\n",
        "\n",
        "    Example:\n",
        "\n",
        "            def mul(p,q):\n",
        "                return p*q\n",
        "\n",
        "            def mul(p,q,r):\n",
        "                return p*q*r\n",
        "\n",
        "            mul(4,5) #error as t eill take 2nd as final\n",
        "            mul(3,4.5,5)"
      ],
      "metadata": {
        "id": "qgImA1eqyIkv"
      }
    },
    {
      "cell_type": "markdown",
      "source": [
        "12. What is method overriding in OOP?\n",
        "\n",
        "    Ans: Overriding: Method overriding is an example of run time polymorphism. In this, the specific implementation of the method that is already provided by the parent class is provided by the child class. It is used to change the behavior of existing methods and there is a need for at least two classes for method overriding. In method overriding, inheritance always required as it is done between parent class(superclass) and child class(child class) methods.\n",
        "\n",
        "        For example:\n",
        "                      class A:\n",
        "\n",
        "\t                        def fun1(self):\n",
        "\t\t                          print('feature_1 of class A')\n",
        "\n",
        "\t                        def fun2(self):\n",
        "\t\t                          print('feature_2 of class A')\n",
        "\n",
        "                          class B(A);\n",
        "                          \n",
        "                          def fun1(self):\n",
        "\t\t                          print('Modified feature_1 of class A by class B')\n",
        "\n",
        "                        \tdef fun3(self):\n",
        "\t\t                          print('feature_3 of class B')\n",
        "\n",
        "                          obj = B()\n",
        "\n",
        "                          obj.fun1()\n",
        "\n",
        "                          o/p: Modified feature_1 of class A by class B"
      ],
      "metadata": {
        "id": "FDHQlPCmyIoo"
      }
    },
    {
      "cell_type": "markdown",
      "source": [
        "13. What is a property decorator in Python?\n",
        "\n",
        "    Ans:@property decorator is a built-in decorator in Python which is helpful in defining the properties effortlessly without manually calling the inbuilt function property(). Which is used to return the property attributes of a class from the stated getter, setter and deleter as parameters."
      ],
      "metadata": {
        "id": "syWosBX8yIr9"
      }
    },
    {
      "cell_type": "markdown",
      "source": [
        "14. Why is polymorphism important in OOP?\n",
        "\n",
        "    Ans:Benefits of polymorphism\n",
        "- Code reusability: Developers can reuse code across multiple projects, which saves time and reduces redundancy\n",
        "- Code readability: Polymorphism can improve code readability by allowing developers to use the same name for functions that have different arguments\n",
        "- Code maintainability: Polymorphism makes it easier to maintain and enhance software over time\n",
        "- Code extensibility: Polymorphism makes it easier to extend or change aspects of a program without affecting the entire program\n",
        "Error handling: Polymorphism can improve error handling"
      ],
      "metadata": {
        "id": "AVZyKzopyIvW"
      }
    },
    {
      "cell_type": "markdown",
      "source": [
        "15. What is an abstract class in Python?\n",
        "\n",
        "    Ans:It defines methods that must be implemented by its subclasses, ensuring that the subclasses follow a consistent structure. ABCs allow you to define common interfaces that various subclasses can implement while enforcing a level of abstraction.\n",
        "\n",
        "    Python provides the abc module to define ABCs and enforce the implementation of abstract methods in subclasses."
      ],
      "metadata": {
        "id": "jqlv_Lk4yIy6"
      }
    },
    {
      "cell_type": "markdown",
      "source": [
        "16. What are the advantages of OOP?\n",
        "\n",
        "    Ans: We can build the programs from standard working modules that communicate with one another, rather than having to start writing the code from scratch which leads to saving of development time and higher productivity,\n",
        "- OOP language allows to break the program into the bit-sized problems that can be solved easily (one object at a time).\n",
        "- The new technology promises greater programmer productivity, better quality of software and lesser maintenance cost.\n",
        "- OOP systems can be easily upgraded from small to large systems.\n",
        "- It is possible that multiple instances of objects co-exist without any interference,\n",
        "- It is very easy to partition the work in a project based on objects.\n",
        "- It is possible to map the objects in problem domain to those in the program.\n",
        "- The principle of data hiding helps the programmer to build secure programs which cannot be invaded by the code in other parts of the program.\n",
        "- By using inheritance, we can eliminate redundant code and extend the use of existing classes.\n",
        "- Message passing techniques is used for communication between objects which makes the interface descriptions with external systems much simpler.\n",
        "- The data-centered design approach enables us to capture more details of model in an implementable form."
      ],
      "metadata": {
        "id": "DRKSbZ2kyI2W"
      }
    },
    {
      "cell_type": "markdown",
      "source": [
        "17. What is the difference between a class variable and an instance variable?\n",
        "\n",
        "    Ans:"
      ],
      "metadata": {
        "id": "IIM5o2MqyI5s"
      }
    },
    {
      "cell_type": "markdown",
      "source": [
        "18. What is multiple inheritance in Python?\n",
        "\n",
        "    Ans:"
      ],
      "metadata": {
        "id": "b2EyV0RNyI9W"
      }
    },
    {
      "cell_type": "markdown",
      "source": [
        "19. Explain the purpose of ______str___  and ______repr___ methods in Python?\n",
        "\n",
        "    Ans:__str__: Called when you use the print() function on an object. Should return a string that is easy for a user to understand. Can be customized to provide specific information about the object relevant to the user.\n",
        "\n",
        "    __repr__:Called when you use the repr() function on an object.\n",
        "    Should return a string that can be used to recreate the object, including detailed information about its state.\n",
        "    Useful for debugging and inspecting objects in the Python interpreter"
      ],
      "metadata": {
        "id": "WXV9kWv6yJAu"
      }
    },
    {
      "cell_type": "markdown",
      "source": [
        "20. What is the significance of the ‘super()’ function in Python?\n",
        "\n",
        "    Ans:The super() function is used to refer to the parent class or superclass. It allows you to call methods defined in the superclass from the subclass, enabling you to extend and customize the functionality inherited from the parent class."
      ],
      "metadata": {
        "id": "66DDOjMdyJIg"
      }
    },
    {
      "cell_type": "markdown",
      "source": [
        "21.  What is the significance of the ______del____ method in Python?\n",
        "\n",
        "    Ans: The __del__ method is a special method in Python that is called when an object is about to be destroyed. It allows you to define specific cleanup actions that should be taken when an object is garbage collected. This method can be particularly useful for releasing external resources such as file handles, network connections, or database connections that the object may hold.\n",
        "\n",
        "- Overview the Python __del__ Method\n",
        "- Purpose: The __del__ method is used to define the actions that should be performed before an object is destroyed. This can include releasing external resources such as files or database connections associated with the object.\n",
        "- Usage: When Python's garbage collector identifies that an object is no longer referenced by any part of the program, it schedules the __del__ method of that object to be called before reclaiming its memory.\n",
        "- Syntax: The __del__ method is defined using the following syntax."
      ],
      "metadata": {
        "id": "YHiLsYCWyJUP"
      }
    },
    {
      "cell_type": "markdown",
      "source": [
        "22. What is the difference between @staticmethod and @classmethod in Python?\n",
        "\n",
        "    Ans: 1. @classmethod\n",
        "- The class is bound to the method as the first argument, cls\n",
        "This allows the method to access the class via the cls argument\n",
        "- @classmethod is used to create methods that manipulate the class or its data\n",
        "- @classmethod can be used to create alternative constructors\n",
        "2. @staticmethod\n",
        "- The method does not take any specific parameters\n",
        "- @staticmethod is used to create utility functions that are related to the class\n",
        "- @staticmethod can be used to encapsulate functionality within a class's scope\n",
        "- @staticmethod is used when a function does not need to know about the class or object"
      ],
      "metadata": {
        "id": "r3F7ddAcyJji"
      }
    },
    {
      "cell_type": "markdown",
      "source": [
        "23. How does polymorphism work in Python with inheritance?\n",
        "\n",
        "    Ans:- Polymorphism with inheritance allows child classes to have the same method names as their parent class. The child class inherits the parent class's methods and attributes, but can also modify them. This process is called method overriding.\n",
        "How it works\n",
        "- A base class is created with a method.\n",
        "- A child class inherits the base class's methods and attributes.\n",
        "- The child class can modify the inherited methods.\n",
        "- When a method is called on an object of the child class, the version of the method defined in that class is executed."
      ],
      "metadata": {
        "id": "kXMuiU6x03zi"
      }
    },
    {
      "cell_type": "markdown",
      "source": [
        "24. What is method chaining in Python OOP?\n",
        "\n",
        "    Ans:- Method chaining is a syntax in Python that allows you to call multiple methods on an object in a single line of code. It's a common technique in object-oriented programming (OOP).\n",
        "- How it works\n",
        "- Each method call returns an object, which can be the same object or a modified version of it\n",
        "- The result of one method call becomes the input for the next method\n",
        "- This allows you to perform a series of operations on an object without storing intermediate results in variables\n",
        "- Benefits\n",
        "- Method chaining makes code more concise and readable\n",
        "- It's especially useful when working with objects that require multiple transformations or operations\n",
        "- It can help you avoid using some variables"
      ],
      "metadata": {
        "id": "UAh_wep_1ABR"
      }
    },
    {
      "cell_type": "markdown",
      "source": [
        "25. What is the purpose of the ______call___ method in Python?\n",
        "\n",
        "    Ans:The __call__ method in Python allows programmers to write classes that behave like functions. This allows the instances of the class to be called like functions.\n",
        "Explanation\n",
        "- The __call__ method is a built-in method in Python.\n",
        "- It's also known as a dunder or magic method because of the two prefixes and suffix underscores in its name.\n",
        "- The __call__ method allows programmers to invoke class instances as functions.\n",
        "- The __call__ method can be used to transform any object into a callable object.\n",
        "- How to use the __call__ method\n",
        "- Implement the __call__() special method in the underlying class.\n",
        "- The __call__() method takes self as its first argument and can take any extra arguments.\n",
        "- The __call__() method can be used to call the instances of the class as if it were a function."
      ],
      "metadata": {
        "id": "HMwD2TwQ1ETK"
      }
    },
    {
      "cell_type": "markdown",
      "source": [
        "#Practical Questions"
      ],
      "metadata": {
        "id": "BHz8p9Ge1Tll"
      }
    },
    {
      "cell_type": "markdown",
      "source": [
        "1.  Create a parent class Animal with a method speak() that prints a generic message. Create a child class Dog\n",
        "that overrides the speak() method to print \"Bark!\"."
      ],
      "metadata": {
        "id": "p9ke_Km71Ntt"
      }
    },
    {
      "cell_type": "code",
      "source": [
        "class Animal:\n",
        "\n",
        "  def speak(self):\n",
        "    print(\"Animal speaks with diffirent diffirent voices\")\n",
        "\n",
        "class Dog(Animal):\n",
        "\n",
        "  def speak(self):\n",
        "    return print(\"Dogs barks to communication with dog community\")\n",
        "\n",
        "obj1 = Dog()\n",
        "obj1.speak()\n"
      ],
      "metadata": {
        "colab": {
          "base_uri": "https://localhost:8080/"
        },
        "id": "e3J6V0lB1R09",
        "outputId": "194b328f-b74e-4f1d-9926-72665ea543d3"
      },
      "execution_count": 5,
      "outputs": [
        {
          "output_type": "stream",
          "name": "stdout",
          "text": [
            "Dogs barks to communication with dog community\n"
          ]
        }
      ]
    },
    {
      "cell_type": "markdown",
      "source": [
        "2. . Write a program to create an abstract class Shape with a method area(). Derive classes Circle and Rectangle\n",
        "from it and implement the area() method in both.\n"
      ],
      "metadata": {
        "id": "VacVdU8g1Skl"
      }
    },
    {
      "cell_type": "code",
      "source": [
        "from abc import ABC, abstractmethod\n",
        "class shape(ABC):\n",
        "  @abstractmethod\n",
        "  def area(self):\n",
        "      pass\n",
        "\n",
        "class Rectangle(shape):\n",
        "\n",
        "  def area(self):\n",
        "    return 23*78\n",
        "\n",
        "class Circle(shape):\n",
        "\n",
        "  def area(self):\n",
        "    return 3.14*34*34\n",
        "\n",
        "obj1=Rectangle()\n",
        "print(obj1.area())\n",
        "\n",
        "\n",
        "obj2=Circle()\n",
        "print(obj2.area())"
      ],
      "metadata": {
        "colab": {
          "base_uri": "https://localhost:8080/"
        },
        "id": "tc5MbZAv1ZgB",
        "outputId": "b3ece619-7461-41b0-a848-47ce2d54bb5a"
      },
      "execution_count": 9,
      "outputs": [
        {
          "output_type": "stream",
          "name": "stdout",
          "text": [
            "1794\n",
            "3629.84\n"
          ]
        }
      ]
    },
    {
      "cell_type": "markdown",
      "source": [
        "3.  Implement a multi-level inheritance scenario where a class Vehicle has an attribute type. Derive a class Car\n",
        "and further derive a class ElectricCar that adds a battery attribute."
      ],
      "metadata": {
        "id": "nFTxfJjm1b2b"
      }
    },
    {
      "cell_type": "code",
      "source": [
        "class vehicle:\n",
        "  def __init__(self,wheel,headlight):\n",
        "    self.no_of_wheel = wheel\n",
        "    self.headlight = headlight\n",
        "\n",
        "  def vehicle_info(self):\n",
        "    print(\"The no of wheels in vehicle is: \", self.no_of_wheel)\n",
        "    print(\"The headlight is: \",self.headlight)\n",
        "\n",
        "class car(vehicle):\n",
        "\n",
        "  def __init__(self,model,wheel,headlight):\n",
        "    self.name_of_model=model\n",
        "    vehicle.__init__(self,wheel,headlight)\n",
        "\n",
        "  def car_info(self):\n",
        "    print(\"The model of car is: \",self.name_of_model)\n",
        "\n",
        "class electric_car(car):\n",
        "\n",
        "    print(\"this is electric car class\")\n",
        "\n",
        "  #object making\n",
        "car1= electric_car(\"alto\",\"9\",\"small\")\n",
        "car1.vehicle_info()\n",
        "car1.car_info()\n",
        "\n"
      ],
      "metadata": {
        "colab": {
          "base_uri": "https://localhost:8080/"
        },
        "id": "zZkBfW-i1c-3",
        "outputId": "0994984f-f65c-4d21-eb8a-1e104c386924"
      },
      "execution_count": 11,
      "outputs": [
        {
          "output_type": "stream",
          "name": "stdout",
          "text": [
            "this is electric car class\n",
            "The no of wheels in vehicle is:  9\n",
            "The headlight is:  small\n",
            "The model of car is:  alto\n"
          ]
        }
      ]
    },
    {
      "cell_type": "markdown",
      "source": [
        "4.  Demonstrate polymorphism by creating a base class Bird with a method fly(). Create two derived classes\n",
        "Sparrow and Penguin that override the fly() method.\n"
      ],
      "metadata": {
        "id": "f2dGTNxB1dbl"
      }
    },
    {
      "cell_type": "code",
      "source": [
        "class Bird:\n",
        "\n",
        "    def __init__(self,flying):\n",
        "      self.style_flying=flying\n",
        "\n",
        "    def fly(self):\n",
        "      print(\"The style of flying is by: \",self.style_flying)\n",
        "\n",
        "class Sparrow(Bird):\n",
        "\n",
        "  def fly(self):\n",
        "    print(\"I can fly with: \",self.style_flying)\n",
        "\n",
        "class Penguin(Bird):\n",
        "\n",
        "  def fly(self):\n",
        "    print(\"I can't fly I walk with: \",self.style_flying)\n",
        "\n",
        "obj1=Sparrow(\"wings\")\n",
        "obj1.fly()\n",
        "\n",
        "obj2=Penguin(\"Legs\")\n",
        "obj2.fly()"
      ],
      "metadata": {
        "colab": {
          "base_uri": "https://localhost:8080/"
        },
        "id": "878W_tIW1gmp",
        "outputId": "2f6d2623-f79b-40ea-e899-1fc37c6de81e"
      },
      "execution_count": 14,
      "outputs": [
        {
          "output_type": "stream",
          "name": "stdout",
          "text": [
            "I can fly with:  wings\n",
            "I can't fly I walk with:  Legs\n"
          ]
        }
      ]
    },
    {
      "cell_type": "markdown",
      "source": [
        "5. Write a program to demonstrate encapsulation by creating a class BankAccount with private attributes\n",
        "balance and methods to deposit, withdraw, and check balance."
      ],
      "metadata": {
        "id": "hX7OXITY1hB-"
      }
    },
    {
      "cell_type": "code",
      "source": [
        "class bank:\n",
        "\n",
        " def __init__(self,balance):\n",
        "  self.__balance=balance\n",
        "\n",
        " def withdraw (self,withdraw):\n",
        "  if self.__balance > withdraw:\n",
        "    self.__balance= self.__balance-withdraw\n",
        "    return print(\"You withdraw: \",withdraw,\"Rs and your account balance is: \",self.__balance)\n",
        "  else:\n",
        "    return print(\"Your account doesn't have enough balance you only have Rs: \",self.__balance,\"and you need \",withdraw-self.__balance,\"more money to complete tranction\")\n",
        "\n",
        " def deposit(self,deposit):\n",
        "    self.__balance=self.__balance + deposit\n",
        "    return print(\"You deposited: \",deposit,\"Rs and your account balance is: \",self.__balance)\n",
        "\n",
        " def get_balance(self):\n",
        "    return print(\"Your account balance is: \",self.__balance)\n",
        "\n",
        "customer1=bank(10000)\n",
        "customer1.withdraw(500)"
      ],
      "metadata": {
        "colab": {
          "base_uri": "https://localhost:8080/"
        },
        "id": "uNnZS9e01kA2",
        "outputId": "3a8ee76d-ec96-4e93-9ba6-fc7fa3039dd2"
      },
      "execution_count": 15,
      "outputs": [
        {
          "output_type": "stream",
          "name": "stdout",
          "text": [
            "You withdraw:  500 Rs and your account balance is:  9500\n"
          ]
        }
      ]
    },
    {
      "cell_type": "markdown",
      "source": [
        "6.  Demonstrate runtime polymorphism using a method play() in a base class Instrument. Derive classes Guitar\n",
        "and Piano that implement their own version of play()."
      ],
      "metadata": {
        "id": "dcPKeNa41khJ"
      }
    },
    {
      "cell_type": "code",
      "source": [
        "class Instrument:\n",
        "  def __init__(self,play_style):\n",
        "    self.playing_style=play_style\n",
        "\n",
        "  def play(self):\n",
        "    print(\"Common playing style: \",self.playing_style)\n",
        "\n",
        "class Guitar(Instrument):\n",
        "\n",
        "    def play(self):\n",
        "      print(\"Guitar's unique playing style is: \",self.playing_style)\n",
        "\n",
        "class Piano(Instrument):\n",
        "\n",
        "    def play(self):\n",
        "      print(\"Piano unique playing style is: \",self.playing_style)\n",
        "\n",
        "obj1=Guitar(\"metal strings with fingers\")\n",
        "obj1.play()\n",
        "\n",
        "obj2=Piano(\"Played using a stick\")\n",
        "obj2.play()"
      ],
      "metadata": {
        "colab": {
          "base_uri": "https://localhost:8080/"
        },
        "id": "PNb4C3Nw1n9-",
        "outputId": "61f6a5ed-4093-4e1e-c461-a3ce99272877"
      },
      "execution_count": 17,
      "outputs": [
        {
          "output_type": "stream",
          "name": "stdout",
          "text": [
            "Guitar's unique playing style is:  metal strings with fingers\n",
            "Piano unique playing style is:  Played using a stick\n"
          ]
        }
      ]
    },
    {
      "cell_type": "markdown",
      "source": [
        "7. Create a class MathOperations with a class method add_numbers() to add two numbers and a static\n",
        "method subtract_numbers() to subtract two numbers"
      ],
      "metadata": {
        "id": "LG-3l45B1oa1"
      }
    },
    {
      "cell_type": "code",
      "source": [
        "class MathOperation:\n",
        "  def __init__(self,num1,num2):\n",
        "    self.num1=num1\n",
        "    self.num2=num2\n",
        "\n",
        "  @classmethod\n",
        "  def add_numbers(cls,num1,num2):\n",
        "    return num1+num2\n",
        "\n",
        "  @staticmethod\n",
        "  def subtract_numbers(num1,num2):\n",
        "    return num1-num2\n",
        "\n",
        "obj1=MathOperation(23,34)\n",
        "print(obj1.add_numbers(23,34))\n",
        "print(obj1.subtract_numbers(23,34))"
      ],
      "metadata": {
        "colab": {
          "base_uri": "https://localhost:8080/"
        },
        "id": "tPjZCUMv1se7",
        "outputId": "7a68a902-5cb3-419d-868a-7315c071fab0"
      },
      "execution_count": 39,
      "outputs": [
        {
          "output_type": "stream",
          "name": "stdout",
          "text": [
            "57\n",
            "-11\n"
          ]
        }
      ]
    },
    {
      "cell_type": "markdown",
      "source": [
        "8.  Implement a class Person with a class method to count the total number of persons created."
      ],
      "metadata": {
        "id": "tu9ribIL1s7L"
      }
    },
    {
      "cell_type": "code",
      "source": [
        "class person:\n",
        "  total_person=0  #declaring the class variable\n",
        "  def __init__(self,name):\n",
        "      self.name=name\n",
        "      person.total_person=person.total_person+1 #total_person is the class variable associated with all the instances\n",
        "\n",
        "  @classmethod\n",
        "  def person_details(cls):\n",
        "    return cls.total_person\n",
        "\n",
        "obj1=person(\"Hemang\")\n",
        "obj2=person(\"Hemang2\")\n",
        "\n",
        "\n",
        "person.person_details()"
      ],
      "metadata": {
        "colab": {
          "base_uri": "https://localhost:8080/"
        },
        "id": "rvUYiCUw1wTe",
        "outputId": "fefbadc9-4b2e-4f0d-8a5c-f39c984fade3"
      },
      "execution_count": 21,
      "outputs": [
        {
          "output_type": "execute_result",
          "data": {
            "text/plain": [
              "2"
            ]
          },
          "metadata": {},
          "execution_count": 21
        }
      ]
    },
    {
      "cell_type": "markdown",
      "source": [
        "9. Write a class Fraction with attributes numerator and denominator. Override the str method to display the\n",
        "fraction as \"numerator/denominator\"."
      ],
      "metadata": {
        "id": "pMw-PTuL1wsf"
      }
    },
    {
      "cell_type": "code",
      "source": [
        "from fractions import Fraction\n",
        "\n",
        "print (Fraction(11, 35))\n",
        "# returns Fraction(11, 35)\n",
        "\n",
        "print (Fraction(10, 18))\n",
        "# returns Fraction(5, 9)\n",
        "\n",
        "print (Fraction())\n",
        "# returns Fraction(0, 1)\n"
      ],
      "metadata": {
        "colab": {
          "base_uri": "https://localhost:8080/"
        },
        "id": "3qun0NYN1zmZ",
        "outputId": "bcfab18a-0b6c-4b4f-c944-ac6d5665fb9e"
      },
      "execution_count": 22,
      "outputs": [
        {
          "output_type": "stream",
          "name": "stdout",
          "text": [
            "11/35\n",
            "5/9\n",
            "0\n"
          ]
        }
      ]
    },
    {
      "cell_type": "markdown",
      "source": [
        "10. Demonstrate operator overloading by creating a class Vector and overriding the add method to add two\n",
        "vectors."
      ],
      "metadata": {
        "id": "Fqd2mTmI10If"
      }
    },
    {
      "cell_type": "code",
      "source": [
        "class Vector:\n",
        "    def __init__(self, x, y):\n",
        "        self.x = x\n",
        "        self.y = y\n",
        "\n",
        "    def __add__(self, other):\n",
        "        return Vector(self.x + other.x, self.y + other.y)\n",
        "\n",
        "    def __repr__(self):\n",
        "        return f\"Vector({self.x}, {self.y})\"\n",
        "\n",
        "# Example usage:\n",
        "v1 = Vector(1, 2)\n",
        "v2 = Vector(3, 4)\n",
        "result = v1 + v2\n",
        "print(result)"
      ],
      "metadata": {
        "colab": {
          "base_uri": "https://localhost:8080/"
        },
        "id": "c_2HHpqE128J",
        "outputId": "1a3b6c92-5de8-42b9-b5f6-667fe08114b8"
      },
      "execution_count": 23,
      "outputs": [
        {
          "output_type": "stream",
          "name": "stdout",
          "text": [
            "Vector(4, 6)\n"
          ]
        }
      ]
    },
    {
      "cell_type": "markdown",
      "source": [
        "11.  Create a class Person with attributes name and age. Add a method greet() that prints \"Hello, my name is\n",
        "{name} and I am {age} years old.\""
      ],
      "metadata": {
        "id": "CvHja34T13Wu"
      }
    },
    {
      "cell_type": "code",
      "source": [
        "class person:\n",
        "  def __init__(self,name,age):\n",
        "    self.name=name\n",
        "    self.age=age\n",
        "\n",
        "  def greet(self):\n",
        "    print(f\"Hello, my name is {self.name} and T am {self.age} years old\")\n",
        "\n",
        "obj1=person(\"jay\",34)\n",
        "obj1.greet()"
      ],
      "metadata": {
        "colab": {
          "base_uri": "https://localhost:8080/"
        },
        "id": "hvHpPLny15x6",
        "outputId": "218b01fe-63f7-4c62-d75e-04967222d411"
      },
      "execution_count": 26,
      "outputs": [
        {
          "output_type": "stream",
          "name": "stdout",
          "text": [
            "Hello, my name is jay and T am 34 years old\n"
          ]
        }
      ]
    },
    {
      "cell_type": "markdown",
      "source": [
        "12.  Implement a class Student with attributes name and grades. Create a method average_grade() to compute\n",
        "the average of the grades."
      ],
      "metadata": {
        "id": "4ldWlArV16Ld"
      }
    },
    {
      "cell_type": "code",
      "source": [
        "class student:\n",
        "\n",
        "  def __init__(self,name,t1,t2,t3,t4,t5):\n",
        "    self.name=name\n",
        "    self.t1=t1\n",
        "    self.t2=t2\n",
        "    self.t3=t3\n",
        "    self.t4=t4\n",
        "    self.t5=t5\n",
        "\n",
        "  def average_grade(self):\n",
        "    tot = self.t1 + self.t2 + self.t3 + self.t4 + self.t5\n",
        "    avg = tot / 5\n",
        "    print(\"Name of the student is: \",self.name)\n",
        "    if avg >= 91 and avg <= 100:\n",
        "      print(\"Your Grade is A1\")\n",
        "    elif avg >= 81 and avg < 91:\n",
        "      print(\"Your Grade is A2\")\n",
        "    elif avg >= 71 and avg < 81:\n",
        "      print(\"Your Grade is B1\")\n",
        "    elif avg >= 61 and avg < 71:\n",
        "      print(\"Your Grade is B2\")\n",
        "    elif avg >= 51 and avg < 61:\n",
        "      print(\"Your Grade is C1\")\n",
        "    elif avg >= 41 and avg < 51:\n",
        "      print(\"Your Grade is C2\")\n",
        "    elif avg >= 33 and avg < 41:\n",
        "      print(\"Your Grade is D\")\n",
        "    elif avg >= 21 and avg < 33:\n",
        "      print(\"Your Grade is E1\")\n",
        "    elif avg >= 0 and avg < 21:\n",
        "      print(\"Your Grade is E2\")\n",
        "    else:\n",
        "      print(\"Invalid Input!\")\n",
        "\n",
        "obj1=student(\"Hemang\",23,34,56,67,67)\n",
        "obj1.average_grade()"
      ],
      "metadata": {
        "colab": {
          "base_uri": "https://localhost:8080/"
        },
        "id": "G65q2QR819hu",
        "outputId": "c65423e8-8436-4610-bf22-f5e46fb07fb7"
      },
      "execution_count": 28,
      "outputs": [
        {
          "output_type": "stream",
          "name": "stdout",
          "text": [
            "Name of the student is:  Hemang\n",
            "Your Grade is C2\n"
          ]
        }
      ]
    },
    {
      "cell_type": "markdown",
      "source": [
        "13. Create a class Rectangle with methods set_dimensions() to set the dimensions and area() to calculate the\n",
        "area."
      ],
      "metadata": {
        "id": "9GxYzAI019_p"
      }
    },
    {
      "cell_type": "code",
      "source": [
        "class Rectangle:\n",
        "  def __init__(self,length,width):\n",
        "    self.length=length\n",
        "    self.width=width\n",
        "\n",
        "  def area(self):\n",
        "    return self.length*self.width\n",
        "\n",
        "obj1=Rectangle(23,34)\n",
        "obj1.area()"
      ],
      "metadata": {
        "colab": {
          "base_uri": "https://localhost:8080/"
        },
        "id": "DWPXxe6M2Akf",
        "outputId": "f5acdccc-18fa-4213-f2c4-443cbfcd7fd5"
      },
      "execution_count": 29,
      "outputs": [
        {
          "output_type": "execute_result",
          "data": {
            "text/plain": [
              "782"
            ]
          },
          "metadata": {},
          "execution_count": 29
        }
      ]
    },
    {
      "cell_type": "markdown",
      "source": [
        "14.  Create a class Employee with a method calculate_salary() that computes the salary based on hours worked\n",
        "and hourly rate. Create a derived class Manager that adds a bonus to the salary."
      ],
      "metadata": {
        "id": "kUU3OmXA2A9t"
      }
    },
    {
      "cell_type": "code",
      "source": [
        "class Employee:\n",
        "    def __init__(self, name, emp_id, salary, department):\n",
        "        self.name = name\n",
        "        self.id = emp_id\n",
        "        self.salary = salary\n",
        "        self.department = department\n",
        "\n",
        "    def calculate_salary(self, salary, hours_worked):\n",
        "        overtime = 0\n",
        "        if hours_worked > 50:\n",
        "            overtime = hours_worked - 50\n",
        "        self.salary = self.salary + (overtime * (self.salary / 50))\n",
        "\n",
        "    def assign_department(self, emp_department):\n",
        "        self.department = emp_department\n",
        "\n",
        "    def print_employee_details(self):\n",
        "        print(\"\\nName: \", self.name)\n",
        "        print(\"ID: \", self.id)\n",
        "        print(\"Salary: \", self.salary)\n",
        "        print(\"Department: \", self.department)\n",
        "        print(\"----------------------\")\n",
        "\n",
        "\n",
        "employee1 = Employee(\"ADAMS\", \"E7876\", 50000, \"ACCOUNTING\")\n",
        "employee2 = Employee(\"JONES\", \"E7499\", 45000, \"RESEARCH\")\n",
        "employee3 = Employee(\"MARTIN\", \"E7900\", 50000, \"SALES\")\n",
        "employee4 = Employee(\"SMITH\", \"E7698\", 55000, \"OPERATIONS\")\n",
        "\n",
        "print(\"Original Employee Details:\")\n",
        "employee1.print_employee_details()\n",
        "employee2.print_employee_details()\n",
        "employee3.print_employee_details()\n",
        "employee4.print_employee_details()\n",
        "\n",
        "# Change the departments of employee1 and employee4\n",
        "employee1.assign_department(\"OPERATIONS\")\n",
        "employee4.assign_department(\"SALES\")\n",
        "\n",
        "# Now calculate the overtime of the employees who are eligible:\n",
        "employee2.calculate_salary(45000, 52)\n",
        "employee4.calculate_salary(45000, 60)\n",
        "\n",
        "print(\"Updated Employee Details:\")\n",
        "employee1.print_employee_details()\n",
        "employee2.print_employee_details()\n",
        "employee3.print_employee_details()\n",
        "employee4.print_employee_details()\n"
      ],
      "metadata": {
        "colab": {
          "base_uri": "https://localhost:8080/"
        },
        "id": "Fj2JFzzg2Dys",
        "outputId": "7b14817f-8b50-42eb-8206-f73224b5244c"
      },
      "execution_count": 30,
      "outputs": [
        {
          "output_type": "stream",
          "name": "stdout",
          "text": [
            "Original Employee Details:\n",
            "\n",
            "Name:  ADAMS\n",
            "ID:  E7876\n",
            "Salary:  50000\n",
            "Department:  ACCOUNTING\n",
            "----------------------\n",
            "\n",
            "Name:  JONES\n",
            "ID:  E7499\n",
            "Salary:  45000\n",
            "Department:  RESEARCH\n",
            "----------------------\n",
            "\n",
            "Name:  MARTIN\n",
            "ID:  E7900\n",
            "Salary:  50000\n",
            "Department:  SALES\n",
            "----------------------\n",
            "\n",
            "Name:  SMITH\n",
            "ID:  E7698\n",
            "Salary:  55000\n",
            "Department:  OPERATIONS\n",
            "----------------------\n",
            "Updated Employee Details:\n",
            "\n",
            "Name:  ADAMS\n",
            "ID:  E7876\n",
            "Salary:  50000\n",
            "Department:  OPERATIONS\n",
            "----------------------\n",
            "\n",
            "Name:  JONES\n",
            "ID:  E7499\n",
            "Salary:  46800.0\n",
            "Department:  RESEARCH\n",
            "----------------------\n",
            "\n",
            "Name:  MARTIN\n",
            "ID:  E7900\n",
            "Salary:  50000\n",
            "Department:  SALES\n",
            "----------------------\n",
            "\n",
            "Name:  SMITH\n",
            "ID:  E7698\n",
            "Salary:  66000.0\n",
            "Department:  SALES\n",
            "----------------------\n"
          ]
        }
      ]
    },
    {
      "cell_type": "markdown",
      "source": [
        "15. Create a class Product with attributes name, price, and quantity. Implement a method total_price() that\n",
        "calculates the total price of the product.\n",
        "\n",
        "\n"
      ],
      "metadata": {
        "id": "Ha2QY96Z2EMP"
      }
    },
    {
      "cell_type": "code",
      "source": [
        "# Define a class called ShoppingCart to represent a shopping cart\n",
        "class ShoppingCart:\n",
        "    # Initialize the shopping cart with an empty list of items\n",
        "    def __init__(self):\n",
        "        self.items = []\n",
        "\n",
        "    # Add an item with a name and quantity to the shopping cart\n",
        "    def add_item(self, item_name, qty):\n",
        "        item = (item_name, qty)\n",
        "        self.items.append(item)\n",
        "\n",
        "    # Remove an item with a specific name from the shopping cart\n",
        "    def remove_item(self, item_name):\n",
        "        for item in self.items:\n",
        "            if item[0] == item_name:\n",
        "                self.items.remove(item)\n",
        "                break\n",
        "\n",
        "    # Calculate and return the total quantity of items in the shopping cart\n",
        "    def calculate_total(self):\n",
        "        total = 0\n",
        "        for item in self.items:\n",
        "            total += item[1]\n",
        "        return total\n",
        "\n",
        "# Example usage\n",
        "# Create an instance of the ShoppingCart class\n",
        "cart = ShoppingCart()\n",
        "\n",
        "# Add items to the shopping cart\n",
        "cart.add_item(\"Papaya\", 100)\n",
        "cart.add_item(\"Guava\", 200)\n",
        "cart.add_item(\"Orange\", 150)\n",
        "\n",
        "# Display the current items in the cart and calculate the total quantity\n",
        "print(\"Current Items in Cart:\")\n",
        "for item in cart.items:\n",
        "    print(item[0], \"-\", item[1])\n",
        "\n",
        "total_qty = cart.calculate_total()\n",
        "print(\"Total Quantity:\", total_qty)\n",
        "\n",
        "# Remove an item from the cart, display the updated items, and recalculate the total quantity\n",
        "cart.remove_item(\"Orange\")\n",
        "print(\"\\nUpdated Items in Cart after removing Orange:\")\n",
        "for item in cart.items:\n",
        "    print(item[0], \"-\", item[1])\n",
        "\n",
        "total_qty = cart.calculate_total()\n",
        "print(\"Total Quantity:\", total_qty)\n"
      ],
      "metadata": {
        "colab": {
          "base_uri": "https://localhost:8080/"
        },
        "id": "RtGmnYmm2HpC",
        "outputId": "411853c9-1c77-4890-f3a0-8518e5942394"
      },
      "execution_count": 31,
      "outputs": [
        {
          "output_type": "stream",
          "name": "stdout",
          "text": [
            "Current Items in Cart:\n",
            "Papaya - 100\n",
            "Guava - 200\n",
            "Orange - 150\n",
            "Total Quantity: 450\n",
            "\n",
            "Updated Items in Cart after removing Orange:\n",
            "Papaya - 100\n",
            "Guava - 200\n",
            "Total Quantity: 300\n"
          ]
        }
      ]
    },
    {
      "cell_type": "markdown",
      "source": [
        "16. Create a class Animal with an abstract method sound(). Create two derived classes Cow and Sheep that\n",
        "implement the sound() method."
      ],
      "metadata": {
        "id": "D1Rgri5K2ICj"
      }
    },
    {
      "cell_type": "code",
      "source": [
        "from abc import ABC, abstractmethod\n",
        "class Animals(ABC):\n",
        "  def __init__(self,sound11):\n",
        "    self.sound1=sound11\n",
        "\n",
        "  @abstractmethod\n",
        "  def sound(self):\n",
        "    return print(\"Animal sound is: \",self.sound1)\n",
        "\n",
        "class Cow(Animals):\n",
        "\n",
        "  def sound(self):\n",
        "    print(\"Cow sound is: \",self.sound1)\n",
        "\n",
        "class Sheep(Animals):\n",
        "\n",
        "  def sound(self):\n",
        "    print(\"Sheep sound is: \",self.sound1)\n",
        "\n",
        "obj1=Cow(\"Moo\")\n",
        "obj1.sound()\n",
        "\n",
        "obj2=Sheep(\"Baa\")\n",
        "obj2.sound()"
      ],
      "metadata": {
        "colab": {
          "base_uri": "https://localhost:8080/"
        },
        "id": "1e5Aojo32Kv_",
        "outputId": "49f12e89-7b71-47b6-daa6-bb4c551b99d3"
      },
      "execution_count": 35,
      "outputs": [
        {
          "output_type": "stream",
          "name": "stdout",
          "text": [
            "Cow sound is:  Moo\n",
            "Sheep sound is:  Baa\n"
          ]
        }
      ]
    },
    {
      "cell_type": "markdown",
      "source": [
        "17. Create a class Book with attributes title, author, and year_published. Add a method get_book_info() that\n",
        "returns a formatted string with the book's details."
      ],
      "metadata": {
        "id": "zUbDLaun2LQy"
      }
    },
    {
      "cell_type": "code",
      "source": [
        "class Book:\n",
        "    def __init__(self, author, title, year):\n",
        "        self.author = author\n",
        "        self.title = title\n",
        "        self.year_of_publised = year\n",
        "\n",
        "    def  get_book_info(self):\n",
        "        return 'Book(self.author,self.title,self.year_of_publised)'\n",
        "\n",
        "obj1=Book(\"Hemang\",\"Python\",2023)\n",
        "obj1.get_book_info()\n",
        "\n"
      ],
      "metadata": {
        "colab": {
          "base_uri": "https://localhost:8080/",
          "height": 35
        },
        "id": "hUEhxw0K2OK7",
        "outputId": "da8b79b6-403e-4812-ea05-f586a2841a55"
      },
      "execution_count": 32,
      "outputs": [
        {
          "output_type": "execute_result",
          "data": {
            "text/plain": [
              "'Book(self.author,self.title,self.year_of_publised)'"
            ],
            "application/vnd.google.colaboratory.intrinsic+json": {
              "type": "string"
            }
          },
          "metadata": {},
          "execution_count": 32
        }
      ]
    },
    {
      "cell_type": "markdown",
      "source": [
        "18. Create a class House with attributes address and price. Create a derived class Mansion that adds an\n",
        "attribute number_of_rooms."
      ],
      "metadata": {
        "id": "mFnv8lPY2Oqx"
      }
    },
    {
      "cell_type": "code",
      "source": [
        "class House:\n",
        "  def __init__(self,address,price):\n",
        "    self.address=address\n",
        "    self.price=price\n",
        "\n",
        "  def house_info(self):\n",
        "    print(\"The address of house is: \",self.address)\n",
        "    print(\"The price of house is: \",self.price)\n",
        "\n",
        "class mansion(House):\n",
        "  def __init__(self,address,price,room):\n",
        "    House.__init__(self,address,price)\n",
        "    self.number_of_room=room\n",
        "\n",
        "  def mansion_info(self):\n",
        "    print(\"The address of mansion is: \",self.address)\n",
        "    print(\"The price of mansion is: \",self.price)\n",
        "    print(\"The number of room in mansion is: \",self.number_of_room)\n",
        "\n",
        "obj1=mansion(\"Visnagar\",\"50lakh\",\"4\")\n",
        "obj1.mansion_info()"
      ],
      "metadata": {
        "colab": {
          "base_uri": "https://localhost:8080/"
        },
        "id": "TQPDrn9o2TWY",
        "outputId": "e4f3b80f-a09f-4809-be6b-8ba2eb35ff45"
      },
      "execution_count": 37,
      "outputs": [
        {
          "output_type": "stream",
          "name": "stdout",
          "text": [
            "The address of mansion is:  Visnagar\n",
            "The price of mansion is:  50lakh\n",
            "The number of room in mansion is:  4\n"
          ]
        }
      ]
    }
  ]
}
